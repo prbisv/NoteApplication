{
  "nbformat": 4,
  "nbformat_minor": 0,
  "metadata": {
    "colab": {
      "provenance": [],
      "authorship_tag": "ABX9TyOz0rYA0f2lBr2h2SZenX1Y",
      "include_colab_link": true
    },
    "kernelspec": {
      "name": "python3",
      "display_name": "Python 3"
    },
    "language_info": {
      "name": "python"
    }
  },
  "cells": [
    {
      "cell_type": "markdown",
      "metadata": {
        "id": "view-in-github",
        "colab_type": "text"
      },
      "source": [
        "<a href=\"https://colab.research.google.com/github/prbisv/NoteApplication/blob/master/model/LSTM/Chatbot_LSTM_DL_data_baru120.ipynb\" target=\"_parent\"><img src=\"https://colab.research.google.com/assets/colab-badge.svg\" alt=\"Open In Colab\"/></a>"
      ]
    },
    {
      "cell_type": "code",
      "source": [
        "from google.colab import drive\n",
        "drive.mount('/content/drive')"
      ],
      "metadata": {
        "id": "IvlaT4kuVMSv",
        "colab": {
          "base_uri": "https://localhost:8080/"
        },
        "outputId": "414fd8cf-6656-4fe0-9e3a-48ecd4fa9fc4"
      },
      "execution_count": 26,
      "outputs": [
        {
          "output_type": "stream",
          "name": "stdout",
          "text": [
            "Drive already mounted at /content/drive; to attempt to forcibly remount, call drive.mount(\"/content/drive\", force_remount=True).\n"
          ]
        }
      ]
    },
    {
      "cell_type": "markdown",
      "source": [
        "# Import Library"
      ],
      "metadata": {
        "id": "9ZqM5cNJNk_k"
      }
    },
    {
      "cell_type": "markdown",
      "source": [
        "Import library yang diperlukan dalam pembuatan model chatbot."
      ],
      "metadata": {
        "id": "lm0UKeyLNoqh"
      }
    },
    {
      "cell_type": "code",
      "execution_count": 27,
      "metadata": {
        "id": "SpYAja6iUW7j"
      },
      "outputs": [],
      "source": [
        "import numpy as np\n",
        "import pandas as pd\n",
        "import matplotlib.pyplot as plt\n",
        "import seaborn as sns\n",
        "import random\n",
        "import json\n",
        "import pickle\n",
        "import string\n",
        "import re\n",
        "\n",
        "import tensorflow as tf\n",
        "from tensorflow.keras.layers import LSTM\n",
        "from tensorflow.keras.models import Sequential, load_model\n",
        "from tensorflow.keras.layers import Dense, Activation, Dropout\n",
        "from tensorflow.keras.optimizers import Adam\n",
        "from tensorflow.keras.preprocessing.text import Tokenizer\n",
        "from tensorflow.keras.layers import Input, Embedding, LSTM , Dense,GlobalMaxPooling1D,Flatten\n",
        "from tensorflow.keras.models import Model\n",
        "from tensorflow.keras.preprocessing.sequence import pad_sequences\n",
        "\n",
        "import sklearn\n",
        "from sklearn.model_selection import train_test_split"
      ]
    },
    {
      "cell_type": "markdown",
      "source": [
        "# Loading Dataset"
      ],
      "metadata": {
        "id": "5VJ2CO7LORhG"
      }
    },
    {
      "cell_type": "markdown",
      "source": [
        "Menyiapkan dataset yang diperlukan dalam pembuatan model chatbot."
      ],
      "metadata": {
        "id": "XFpXafp2OT9p"
      }
    },
    {
      "cell_type": "code",
      "source": [
        "# Melihat dataset dalam dataframe\n",
        "\n",
        "dataset = pd.read_csv('/content/drive/MyDrive/Capstone Project/Colab Notebook/all_new_label_edit_filtered.csv')\n",
        "\n",
        "dataset"
      ],
      "metadata": {
        "colab": {
          "base_uri": "https://localhost:8080/",
          "height": 424
        },
        "id": "gUWKciQPTMm3",
        "outputId": "015dab42-db92-4049-9c3d-8583c6198bc9"
      },
      "execution_count": 28,
      "outputs": [
        {
          "output_type": "execute_result",
          "data": {
            "text/plain": [
              "      Unnamed: 0                                         pertanyaan  \\\n",
              "0              0  Apa artinya memiliki penyakit atau gangguan me...   \n",
              "1              1  Siapa saja yang dapat terkena penyakit atau ga...   \n",
              "2              2  Apa yang menyebabkan terjadinya penyakit atau ...   \n",
              "3              3    Apa saja gejala-gejala penanda penyakit mental?   \n",
              "4              4      Apakah penderita gangguan mental bisa sembuh?   \n",
              "...          ...                                                ...   \n",
              "1955        2264  Setelah pertama kali bertemu klien, apa proses...   \n",
              "1956        2265  Setelah pertama kali bertemu klien, apa proses...   \n",
              "1957        2266  Setelah pertama kali bertemu klien, apa proses...   \n",
              "1958        2267  Setelah pertama kali bertemu klien, apa proses...   \n",
              "1959        2268  Setelah pertama kali bertemu klien, apa proses...   \n",
              "\n",
              "                                                jawaban                  label  \n",
              "0     Penyakit mental adalah kondisi kesehatan yang ...               definisi  \n",
              "1     Berdasarkan Sistem Registrasi Sampel yang dila...               definisi  \n",
              "2     Penyebab gangguan mental belum diketahui secar...               definisi  \n",
              "3     Gejala gangguan kesehatan mental sangat bervar...               definisi  \n",
              "4     Penderita gangguan mental tentu saja bisa semb...               definisi  \n",
              "...                                                 ...                    ...  \n",
              "1955  Mungkin tidak ada dua terapis yang sama karena...  konseling_fundamental  \n",
              "1956  Setiap konselor mungkin memiliki proses yang b...  konseling_fundamental  \n",
              "1957  Setelah bertemu dengan klien, banyak konselor ...  konseling_fundamental  \n",
              "1958  Seorang terapis yang baik akan membahas apa ya...  konseling_fundamental  \n",
              "1959  Pertanyaan bagus yang saya bayangkan juga bany...  konseling_fundamental  \n",
              "\n",
              "[1960 rows x 4 columns]"
            ],
            "text/html": [
              "\n",
              "  <div id=\"df-66a999ba-344f-43c7-8d6b-73520feebf2e\">\n",
              "    <div class=\"colab-df-container\">\n",
              "      <div>\n",
              "<style scoped>\n",
              "    .dataframe tbody tr th:only-of-type {\n",
              "        vertical-align: middle;\n",
              "    }\n",
              "\n",
              "    .dataframe tbody tr th {\n",
              "        vertical-align: top;\n",
              "    }\n",
              "\n",
              "    .dataframe thead th {\n",
              "        text-align: right;\n",
              "    }\n",
              "</style>\n",
              "<table border=\"1\" class=\"dataframe\">\n",
              "  <thead>\n",
              "    <tr style=\"text-align: right;\">\n",
              "      <th></th>\n",
              "      <th>Unnamed: 0</th>\n",
              "      <th>pertanyaan</th>\n",
              "      <th>jawaban</th>\n",
              "      <th>label</th>\n",
              "    </tr>\n",
              "  </thead>\n",
              "  <tbody>\n",
              "    <tr>\n",
              "      <th>0</th>\n",
              "      <td>0</td>\n",
              "      <td>Apa artinya memiliki penyakit atau gangguan me...</td>\n",
              "      <td>Penyakit mental adalah kondisi kesehatan yang ...</td>\n",
              "      <td>definisi</td>\n",
              "    </tr>\n",
              "    <tr>\n",
              "      <th>1</th>\n",
              "      <td>1</td>\n",
              "      <td>Siapa saja yang dapat terkena penyakit atau ga...</td>\n",
              "      <td>Berdasarkan Sistem Registrasi Sampel yang dila...</td>\n",
              "      <td>definisi</td>\n",
              "    </tr>\n",
              "    <tr>\n",
              "      <th>2</th>\n",
              "      <td>2</td>\n",
              "      <td>Apa yang menyebabkan terjadinya penyakit atau ...</td>\n",
              "      <td>Penyebab gangguan mental belum diketahui secar...</td>\n",
              "      <td>definisi</td>\n",
              "    </tr>\n",
              "    <tr>\n",
              "      <th>3</th>\n",
              "      <td>3</td>\n",
              "      <td>Apa saja gejala-gejala penanda penyakit mental?</td>\n",
              "      <td>Gejala gangguan kesehatan mental sangat bervar...</td>\n",
              "      <td>definisi</td>\n",
              "    </tr>\n",
              "    <tr>\n",
              "      <th>4</th>\n",
              "      <td>4</td>\n",
              "      <td>Apakah penderita gangguan mental bisa sembuh?</td>\n",
              "      <td>Penderita gangguan mental tentu saja bisa semb...</td>\n",
              "      <td>definisi</td>\n",
              "    </tr>\n",
              "    <tr>\n",
              "      <th>...</th>\n",
              "      <td>...</td>\n",
              "      <td>...</td>\n",
              "      <td>...</td>\n",
              "      <td>...</td>\n",
              "    </tr>\n",
              "    <tr>\n",
              "      <th>1955</th>\n",
              "      <td>2264</td>\n",
              "      <td>Setelah pertama kali bertemu klien, apa proses...</td>\n",
              "      <td>Mungkin tidak ada dua terapis yang sama karena...</td>\n",
              "      <td>konseling_fundamental</td>\n",
              "    </tr>\n",
              "    <tr>\n",
              "      <th>1956</th>\n",
              "      <td>2265</td>\n",
              "      <td>Setelah pertama kali bertemu klien, apa proses...</td>\n",
              "      <td>Setiap konselor mungkin memiliki proses yang b...</td>\n",
              "      <td>konseling_fundamental</td>\n",
              "    </tr>\n",
              "    <tr>\n",
              "      <th>1957</th>\n",
              "      <td>2266</td>\n",
              "      <td>Setelah pertama kali bertemu klien, apa proses...</td>\n",
              "      <td>Setelah bertemu dengan klien, banyak konselor ...</td>\n",
              "      <td>konseling_fundamental</td>\n",
              "    </tr>\n",
              "    <tr>\n",
              "      <th>1958</th>\n",
              "      <td>2267</td>\n",
              "      <td>Setelah pertama kali bertemu klien, apa proses...</td>\n",
              "      <td>Seorang terapis yang baik akan membahas apa ya...</td>\n",
              "      <td>konseling_fundamental</td>\n",
              "    </tr>\n",
              "    <tr>\n",
              "      <th>1959</th>\n",
              "      <td>2268</td>\n",
              "      <td>Setelah pertama kali bertemu klien, apa proses...</td>\n",
              "      <td>Pertanyaan bagus yang saya bayangkan juga bany...</td>\n",
              "      <td>konseling_fundamental</td>\n",
              "    </tr>\n",
              "  </tbody>\n",
              "</table>\n",
              "<p>1960 rows × 4 columns</p>\n",
              "</div>\n",
              "      <button class=\"colab-df-convert\" onclick=\"convertToInteractive('df-66a999ba-344f-43c7-8d6b-73520feebf2e')\"\n",
              "              title=\"Convert this dataframe to an interactive table.\"\n",
              "              style=\"display:none;\">\n",
              "        \n",
              "  <svg xmlns=\"http://www.w3.org/2000/svg\" height=\"24px\"viewBox=\"0 0 24 24\"\n",
              "       width=\"24px\">\n",
              "    <path d=\"M0 0h24v24H0V0z\" fill=\"none\"/>\n",
              "    <path d=\"M18.56 5.44l.94 2.06.94-2.06 2.06-.94-2.06-.94-.94-2.06-.94 2.06-2.06.94zm-11 1L8.5 8.5l.94-2.06 2.06-.94-2.06-.94L8.5 2.5l-.94 2.06-2.06.94zm10 10l.94 2.06.94-2.06 2.06-.94-2.06-.94-.94-2.06-.94 2.06-2.06.94z\"/><path d=\"M17.41 7.96l-1.37-1.37c-.4-.4-.92-.59-1.43-.59-.52 0-1.04.2-1.43.59L10.3 9.45l-7.72 7.72c-.78.78-.78 2.05 0 2.83L4 21.41c.39.39.9.59 1.41.59.51 0 1.02-.2 1.41-.59l7.78-7.78 2.81-2.81c.8-.78.8-2.07 0-2.86zM5.41 20L4 18.59l7.72-7.72 1.47 1.35L5.41 20z\"/>\n",
              "  </svg>\n",
              "      </button>\n",
              "      \n",
              "  <style>\n",
              "    .colab-df-container {\n",
              "      display:flex;\n",
              "      flex-wrap:wrap;\n",
              "      gap: 12px;\n",
              "    }\n",
              "\n",
              "    .colab-df-convert {\n",
              "      background-color: #E8F0FE;\n",
              "      border: none;\n",
              "      border-radius: 50%;\n",
              "      cursor: pointer;\n",
              "      display: none;\n",
              "      fill: #1967D2;\n",
              "      height: 32px;\n",
              "      padding: 0 0 0 0;\n",
              "      width: 32px;\n",
              "    }\n",
              "\n",
              "    .colab-df-convert:hover {\n",
              "      background-color: #E2EBFA;\n",
              "      box-shadow: 0px 1px 2px rgba(60, 64, 67, 0.3), 0px 1px 3px 1px rgba(60, 64, 67, 0.15);\n",
              "      fill: #174EA6;\n",
              "    }\n",
              "\n",
              "    [theme=dark] .colab-df-convert {\n",
              "      background-color: #3B4455;\n",
              "      fill: #D2E3FC;\n",
              "    }\n",
              "\n",
              "    [theme=dark] .colab-df-convert:hover {\n",
              "      background-color: #434B5C;\n",
              "      box-shadow: 0px 1px 3px 1px rgba(0, 0, 0, 0.15);\n",
              "      filter: drop-shadow(0px 1px 2px rgba(0, 0, 0, 0.3));\n",
              "      fill: #FFFFFF;\n",
              "    }\n",
              "  </style>\n",
              "\n",
              "      <script>\n",
              "        const buttonEl =\n",
              "          document.querySelector('#df-66a999ba-344f-43c7-8d6b-73520feebf2e button.colab-df-convert');\n",
              "        buttonEl.style.display =\n",
              "          google.colab.kernel.accessAllowed ? 'block' : 'none';\n",
              "\n",
              "        async function convertToInteractive(key) {\n",
              "          const element = document.querySelector('#df-66a999ba-344f-43c7-8d6b-73520feebf2e');\n",
              "          const dataTable =\n",
              "            await google.colab.kernel.invokeFunction('convertToInteractive',\n",
              "                                                     [key], {});\n",
              "          if (!dataTable) return;\n",
              "\n",
              "          const docLinkHtml = 'Like what you see? Visit the ' +\n",
              "            '<a target=\"_blank\" href=https://colab.research.google.com/notebooks/data_table.ipynb>data table notebook</a>'\n",
              "            + ' to learn more about interactive tables.';\n",
              "          element.innerHTML = '';\n",
              "          dataTable['output_type'] = 'display_data';\n",
              "          await google.colab.output.renderOutput(dataTable, element);\n",
              "          const docLink = document.createElement('div');\n",
              "          docLink.innerHTML = docLinkHtml;\n",
              "          element.appendChild(docLink);\n",
              "        }\n",
              "      </script>\n",
              "    </div>\n",
              "  </div>\n",
              "  "
            ]
          },
          "metadata": {},
          "execution_count": 28
        }
      ]
    },
    {
      "cell_type": "code",
      "source": [
        "# Menghapus kolom yang tidak diperlukan\n",
        "\n",
        "dataset.drop(columns='Unnamed: 0', inplace=True)\n",
        "\n",
        "dataset"
      ],
      "metadata": {
        "id": "hviARsOkyiyG",
        "colab": {
          "base_uri": "https://localhost:8080/",
          "height": 424
        },
        "outputId": "fec26ecc-60d6-49b6-ecc2-09205a525796"
      },
      "execution_count": 29,
      "outputs": [
        {
          "output_type": "execute_result",
          "data": {
            "text/plain": [
              "                                             pertanyaan  \\\n",
              "0     Apa artinya memiliki penyakit atau gangguan me...   \n",
              "1     Siapa saja yang dapat terkena penyakit atau ga...   \n",
              "2     Apa yang menyebabkan terjadinya penyakit atau ...   \n",
              "3       Apa saja gejala-gejala penanda penyakit mental?   \n",
              "4         Apakah penderita gangguan mental bisa sembuh?   \n",
              "...                                                 ...   \n",
              "1955  Setelah pertama kali bertemu klien, apa proses...   \n",
              "1956  Setelah pertama kali bertemu klien, apa proses...   \n",
              "1957  Setelah pertama kali bertemu klien, apa proses...   \n",
              "1958  Setelah pertama kali bertemu klien, apa proses...   \n",
              "1959  Setelah pertama kali bertemu klien, apa proses...   \n",
              "\n",
              "                                                jawaban                  label  \n",
              "0     Penyakit mental adalah kondisi kesehatan yang ...               definisi  \n",
              "1     Berdasarkan Sistem Registrasi Sampel yang dila...               definisi  \n",
              "2     Penyebab gangguan mental belum diketahui secar...               definisi  \n",
              "3     Gejala gangguan kesehatan mental sangat bervar...               definisi  \n",
              "4     Penderita gangguan mental tentu saja bisa semb...               definisi  \n",
              "...                                                 ...                    ...  \n",
              "1955  Mungkin tidak ada dua terapis yang sama karena...  konseling_fundamental  \n",
              "1956  Setiap konselor mungkin memiliki proses yang b...  konseling_fundamental  \n",
              "1957  Setelah bertemu dengan klien, banyak konselor ...  konseling_fundamental  \n",
              "1958  Seorang terapis yang baik akan membahas apa ya...  konseling_fundamental  \n",
              "1959  Pertanyaan bagus yang saya bayangkan juga bany...  konseling_fundamental  \n",
              "\n",
              "[1960 rows x 3 columns]"
            ],
            "text/html": [
              "\n",
              "  <div id=\"df-a3a718a0-b29e-4088-a386-a9a0d23e1db8\">\n",
              "    <div class=\"colab-df-container\">\n",
              "      <div>\n",
              "<style scoped>\n",
              "    .dataframe tbody tr th:only-of-type {\n",
              "        vertical-align: middle;\n",
              "    }\n",
              "\n",
              "    .dataframe tbody tr th {\n",
              "        vertical-align: top;\n",
              "    }\n",
              "\n",
              "    .dataframe thead th {\n",
              "        text-align: right;\n",
              "    }\n",
              "</style>\n",
              "<table border=\"1\" class=\"dataframe\">\n",
              "  <thead>\n",
              "    <tr style=\"text-align: right;\">\n",
              "      <th></th>\n",
              "      <th>pertanyaan</th>\n",
              "      <th>jawaban</th>\n",
              "      <th>label</th>\n",
              "    </tr>\n",
              "  </thead>\n",
              "  <tbody>\n",
              "    <tr>\n",
              "      <th>0</th>\n",
              "      <td>Apa artinya memiliki penyakit atau gangguan me...</td>\n",
              "      <td>Penyakit mental adalah kondisi kesehatan yang ...</td>\n",
              "      <td>definisi</td>\n",
              "    </tr>\n",
              "    <tr>\n",
              "      <th>1</th>\n",
              "      <td>Siapa saja yang dapat terkena penyakit atau ga...</td>\n",
              "      <td>Berdasarkan Sistem Registrasi Sampel yang dila...</td>\n",
              "      <td>definisi</td>\n",
              "    </tr>\n",
              "    <tr>\n",
              "      <th>2</th>\n",
              "      <td>Apa yang menyebabkan terjadinya penyakit atau ...</td>\n",
              "      <td>Penyebab gangguan mental belum diketahui secar...</td>\n",
              "      <td>definisi</td>\n",
              "    </tr>\n",
              "    <tr>\n",
              "      <th>3</th>\n",
              "      <td>Apa saja gejala-gejala penanda penyakit mental?</td>\n",
              "      <td>Gejala gangguan kesehatan mental sangat bervar...</td>\n",
              "      <td>definisi</td>\n",
              "    </tr>\n",
              "    <tr>\n",
              "      <th>4</th>\n",
              "      <td>Apakah penderita gangguan mental bisa sembuh?</td>\n",
              "      <td>Penderita gangguan mental tentu saja bisa semb...</td>\n",
              "      <td>definisi</td>\n",
              "    </tr>\n",
              "    <tr>\n",
              "      <th>...</th>\n",
              "      <td>...</td>\n",
              "      <td>...</td>\n",
              "      <td>...</td>\n",
              "    </tr>\n",
              "    <tr>\n",
              "      <th>1955</th>\n",
              "      <td>Setelah pertama kali bertemu klien, apa proses...</td>\n",
              "      <td>Mungkin tidak ada dua terapis yang sama karena...</td>\n",
              "      <td>konseling_fundamental</td>\n",
              "    </tr>\n",
              "    <tr>\n",
              "      <th>1956</th>\n",
              "      <td>Setelah pertama kali bertemu klien, apa proses...</td>\n",
              "      <td>Setiap konselor mungkin memiliki proses yang b...</td>\n",
              "      <td>konseling_fundamental</td>\n",
              "    </tr>\n",
              "    <tr>\n",
              "      <th>1957</th>\n",
              "      <td>Setelah pertama kali bertemu klien, apa proses...</td>\n",
              "      <td>Setelah bertemu dengan klien, banyak konselor ...</td>\n",
              "      <td>konseling_fundamental</td>\n",
              "    </tr>\n",
              "    <tr>\n",
              "      <th>1958</th>\n",
              "      <td>Setelah pertama kali bertemu klien, apa proses...</td>\n",
              "      <td>Seorang terapis yang baik akan membahas apa ya...</td>\n",
              "      <td>konseling_fundamental</td>\n",
              "    </tr>\n",
              "    <tr>\n",
              "      <th>1959</th>\n",
              "      <td>Setelah pertama kali bertemu klien, apa proses...</td>\n",
              "      <td>Pertanyaan bagus yang saya bayangkan juga bany...</td>\n",
              "      <td>konseling_fundamental</td>\n",
              "    </tr>\n",
              "  </tbody>\n",
              "</table>\n",
              "<p>1960 rows × 3 columns</p>\n",
              "</div>\n",
              "      <button class=\"colab-df-convert\" onclick=\"convertToInteractive('df-a3a718a0-b29e-4088-a386-a9a0d23e1db8')\"\n",
              "              title=\"Convert this dataframe to an interactive table.\"\n",
              "              style=\"display:none;\">\n",
              "        \n",
              "  <svg xmlns=\"http://www.w3.org/2000/svg\" height=\"24px\"viewBox=\"0 0 24 24\"\n",
              "       width=\"24px\">\n",
              "    <path d=\"M0 0h24v24H0V0z\" fill=\"none\"/>\n",
              "    <path d=\"M18.56 5.44l.94 2.06.94-2.06 2.06-.94-2.06-.94-.94-2.06-.94 2.06-2.06.94zm-11 1L8.5 8.5l.94-2.06 2.06-.94-2.06-.94L8.5 2.5l-.94 2.06-2.06.94zm10 10l.94 2.06.94-2.06 2.06-.94-2.06-.94-.94-2.06-.94 2.06-2.06.94z\"/><path d=\"M17.41 7.96l-1.37-1.37c-.4-.4-.92-.59-1.43-.59-.52 0-1.04.2-1.43.59L10.3 9.45l-7.72 7.72c-.78.78-.78 2.05 0 2.83L4 21.41c.39.39.9.59 1.41.59.51 0 1.02-.2 1.41-.59l7.78-7.78 2.81-2.81c.8-.78.8-2.07 0-2.86zM5.41 20L4 18.59l7.72-7.72 1.47 1.35L5.41 20z\"/>\n",
              "  </svg>\n",
              "      </button>\n",
              "      \n",
              "  <style>\n",
              "    .colab-df-container {\n",
              "      display:flex;\n",
              "      flex-wrap:wrap;\n",
              "      gap: 12px;\n",
              "    }\n",
              "\n",
              "    .colab-df-convert {\n",
              "      background-color: #E8F0FE;\n",
              "      border: none;\n",
              "      border-radius: 50%;\n",
              "      cursor: pointer;\n",
              "      display: none;\n",
              "      fill: #1967D2;\n",
              "      height: 32px;\n",
              "      padding: 0 0 0 0;\n",
              "      width: 32px;\n",
              "    }\n",
              "\n",
              "    .colab-df-convert:hover {\n",
              "      background-color: #E2EBFA;\n",
              "      box-shadow: 0px 1px 2px rgba(60, 64, 67, 0.3), 0px 1px 3px 1px rgba(60, 64, 67, 0.15);\n",
              "      fill: #174EA6;\n",
              "    }\n",
              "\n",
              "    [theme=dark] .colab-df-convert {\n",
              "      background-color: #3B4455;\n",
              "      fill: #D2E3FC;\n",
              "    }\n",
              "\n",
              "    [theme=dark] .colab-df-convert:hover {\n",
              "      background-color: #434B5C;\n",
              "      box-shadow: 0px 1px 3px 1px rgba(0, 0, 0, 0.15);\n",
              "      filter: drop-shadow(0px 1px 2px rgba(0, 0, 0, 0.3));\n",
              "      fill: #FFFFFF;\n",
              "    }\n",
              "  </style>\n",
              "\n",
              "      <script>\n",
              "        const buttonEl =\n",
              "          document.querySelector('#df-a3a718a0-b29e-4088-a386-a9a0d23e1db8 button.colab-df-convert');\n",
              "        buttonEl.style.display =\n",
              "          google.colab.kernel.accessAllowed ? 'block' : 'none';\n",
              "\n",
              "        async function convertToInteractive(key) {\n",
              "          const element = document.querySelector('#df-a3a718a0-b29e-4088-a386-a9a0d23e1db8');\n",
              "          const dataTable =\n",
              "            await google.colab.kernel.invokeFunction('convertToInteractive',\n",
              "                                                     [key], {});\n",
              "          if (!dataTable) return;\n",
              "\n",
              "          const docLinkHtml = 'Like what you see? Visit the ' +\n",
              "            '<a target=\"_blank\" href=https://colab.research.google.com/notebooks/data_table.ipynb>data table notebook</a>'\n",
              "            + ' to learn more about interactive tables.';\n",
              "          element.innerHTML = '';\n",
              "          dataTable['output_type'] = 'display_data';\n",
              "          await google.colab.output.renderOutput(dataTable, element);\n",
              "          const docLink = document.createElement('div');\n",
              "          docLink.innerHTML = docLinkHtml;\n",
              "          element.appendChild(docLink);\n",
              "        }\n",
              "      </script>\n",
              "    </div>\n",
              "  </div>\n",
              "  "
            ]
          },
          "metadata": {},
          "execution_count": 29
        }
      ]
    },
    {
      "cell_type": "markdown",
      "source": [
        "# Exploratory Data Analysis"
      ],
      "metadata": {
        "id": "PoWXXWcAOMf8"
      }
    },
    {
      "cell_type": "markdown",
      "source": [
        "Eksplorasi dataset yang digunakan dalam proses pembuatan model chatbot."
      ],
      "metadata": {
        "id": "vU19EjwSOgXB"
      }
    },
    {
      "cell_type": "code",
      "source": [
        "# Melihat jumlah data pada setiap kategori\n",
        "\n",
        "dataset.label.value_counts()"
      ],
      "metadata": {
        "id": "1kThUqmgVqUK",
        "colab": {
          "base_uri": "https://localhost:8080/"
        },
        "outputId": "e9e05858-2e21-4b05-c8dd-b9b301d59b86"
      },
      "execution_count": 30,
      "outputs": [
        {
          "output_type": "execute_result",
          "data": {
            "text/plain": [
              "depresi                   359\n",
              "keluarga                  334\n",
              "hubungan                  328\n",
              "kecemasan                 249\n",
              "konseling_fundamental     240\n",
              "harga_diri                 83\n",
              "trauma                     66\n",
              "cari_bantuan               58\n",
              "perubahan_perilaku         51\n",
              "definisi                   50\n",
              "penyalahgunaan_zat         40\n",
              "manajemen_emosi            38\n",
              "tips_pengobatan            23\n",
              "diagnosis_dini             22\n",
              "peningkatan_pola_tidur     10\n",
              "profesional_yang_benar      9\n",
              "Name: label, dtype: int64"
            ]
          },
          "metadata": {},
          "execution_count": 30
        }
      ]
    },
    {
      "cell_type": "code",
      "source": [
        "# Grafik jumlah data pada setiap kategori\n",
        "\n",
        "dataset[\"label\"].value_counts().plot.bar()"
      ],
      "metadata": {
        "colab": {
          "base_uri": "https://localhost:8080/",
          "height": 391
        },
        "id": "WlLwYMvV4-Oy",
        "outputId": "51970b4e-ef29-4d07-fdbd-ea3baeae5ec5"
      },
      "execution_count": 31,
      "outputs": [
        {
          "output_type": "execute_result",
          "data": {
            "text/plain": [
              "<matplotlib.axes._subplots.AxesSubplot at 0x7efd3d9fbf70>"
            ]
          },
          "metadata": {},
          "execution_count": 31
        },
        {
          "output_type": "display_data",
          "data": {
            "text/plain": [
              "<Figure size 432x288 with 1 Axes>"
            ],
            "image/png": "[encoded data removed]"
          },
          "metadata": {
            "needs_background": "light"
          }
        }
      ]
    },
    {
      "cell_type": "code",
      "source": [
        "# Encoding label\n",
        "\n",
        "from sklearn.preprocessing import LabelEncoder\n",
        "label_enc = LabelEncoder()\n",
        "\n",
        "labeled = label_enc.fit_transform(dataset.label)\n",
        "labeled"
      ],
      "metadata": {
        "colab": {
          "base_uri": "https://localhost:8080/"
        },
        "id": "6EnW_x645Aki",
        "outputId": "576c1880-f339-40b4-e639-3a4e196a8111"
      },
      "execution_count": 32,
      "outputs": [
        {
          "output_type": "execute_result",
          "data": {
            "text/plain": [
              "array([1, 1, 1, ..., 8, 8, 8])"
            ]
          },
          "metadata": {},
          "execution_count": 32
        }
      ]
    },
    {
      "cell_type": "code",
      "source": [
        "# Mapping index\n",
        "\n",
        "mapper = {}\n",
        "for index,key in enumerate(dataset.label):\n",
        "    if key not in mapper.keys():\n",
        "        mapper[key] = labeled[index]\n",
        "        \n",
        "mapper"
      ],
      "metadata": {
        "colab": {
          "base_uri": "https://localhost:8080/"
        },
        "id": "J_cs4S7S5Fnx",
        "outputId": "caad0532-3440-4ac9-e713-ef8c041ec61b"
      },
      "execution_count": 33,
      "outputs": [
        {
          "output_type": "execute_result",
          "data": {
            "text/plain": [
              "{'definisi': 1,\n",
              " 'cari_bantuan': 0,\n",
              " 'profesional_yang_benar': 13,\n",
              " 'tips_pengobatan': 14,\n",
              " 'depresi': 2,\n",
              " 'kecemasan': 6,\n",
              " 'keluarga': 7,\n",
              " 'harga_diri': 4,\n",
              " 'hubungan': 5,\n",
              " 'trauma': 15,\n",
              " 'manajemen_emosi': 9,\n",
              " 'peningkatan_pola_tidur': 10,\n",
              " 'penyalahgunaan_zat': 11,\n",
              " 'perubahan_perilaku': 12,\n",
              " 'diagnosis_dini': 3,\n",
              " 'konseling_fundamental': 8}"
            ]
          },
          "metadata": {},
          "execution_count": 33
        }
      ]
    },
    {
      "cell_type": "code",
      "source": [
        "dataset.label = dataset.label.map(mapper).astype({'label': 'int32'})\n",
        "\n",
        "dataset"
      ],
      "metadata": {
        "id": "XuCCpk-2UdeS",
        "colab": {
          "base_uri": "https://localhost:8080/",
          "height": 424
        },
        "outputId": "a6a434cc-08a9-4133-c0b0-1a4f3ca265a0"
      },
      "execution_count": 34,
      "outputs": [
        {
          "output_type": "execute_result",
          "data": {
            "text/plain": [
              "                                             pertanyaan  \\\n",
              "0     Apa artinya memiliki penyakit atau gangguan me...   \n",
              "1     Siapa saja yang dapat terkena penyakit atau ga...   \n",
              "2     Apa yang menyebabkan terjadinya penyakit atau ...   \n",
              "3       Apa saja gejala-gejala penanda penyakit mental?   \n",
              "4         Apakah penderita gangguan mental bisa sembuh?   \n",
              "...                                                 ...   \n",
              "1955  Setelah pertama kali bertemu klien, apa proses...   \n",
              "1956  Setelah pertama kali bertemu klien, apa proses...   \n",
              "1957  Setelah pertama kali bertemu klien, apa proses...   \n",
              "1958  Setelah pertama kali bertemu klien, apa proses...   \n",
              "1959  Setelah pertama kali bertemu klien, apa proses...   \n",
              "\n",
              "                                                jawaban  label  \n",
              "0     Penyakit mental adalah kondisi kesehatan yang ...      1  \n",
              "1     Berdasarkan Sistem Registrasi Sampel yang dila...      1  \n",
              "2     Penyebab gangguan mental belum diketahui secar...      1  \n",
              "3     Gejala gangguan kesehatan mental sangat bervar...      1  \n",
              "4     Penderita gangguan mental tentu saja bisa semb...      1  \n",
              "...                                                 ...    ...  \n",
              "1955  Mungkin tidak ada dua terapis yang sama karena...      8  \n",
              "1956  Setiap konselor mungkin memiliki proses yang b...      8  \n",
              "1957  Setelah bertemu dengan klien, banyak konselor ...      8  \n",
              "1958  Seorang terapis yang baik akan membahas apa ya...      8  \n",
              "1959  Pertanyaan bagus yang saya bayangkan juga bany...      8  \n",
              "\n",
              "[1960 rows x 3 columns]"
            ],
            "text/html": [
              "\n",
              "  <div id=\"df-b69e19a9-0d2b-4942-9102-99f7ef442ee1\">\n",
              "    <div class=\"colab-df-container\">\n",
              "      <div>\n",
              "<style scoped>\n",
              "    .dataframe tbody tr th:only-of-type {\n",
              "        vertical-align: middle;\n",
              "    }\n",
              "\n",
              "    .dataframe tbody tr th {\n",
              "        vertical-align: top;\n",
              "    }\n",
              "\n",
              "    .dataframe thead th {\n",
              "        text-align: right;\n",
              "    }\n",
              "</style>\n",
              "<table border=\"1\" class=\"dataframe\">\n",
              "  <thead>\n",
              "    <tr style=\"text-align: right;\">\n",
              "      <th></th>\n",
              "      <th>pertanyaan</th>\n",
              "      <th>jawaban</th>\n",
              "      <th>label</th>\n",
              "    </tr>\n",
              "  </thead>\n",
              "  <tbody>\n",
              "    <tr>\n",
              "      <th>0</th>\n",
              "      <td>Apa artinya memiliki penyakit atau gangguan me...</td>\n",
              "      <td>Penyakit mental adalah kondisi kesehatan yang ...</td>\n",
              "      <td>1</td>\n",
              "    </tr>\n",
              "    <tr>\n",
              "      <th>1</th>\n",
              "      <td>Siapa saja yang dapat terkena penyakit atau ga...</td>\n",
              "      <td>Berdasarkan Sistem Registrasi Sampel yang dila...</td>\n",
              "      <td>1</td>\n",
              "    </tr>\n",
              "    <tr>\n",
              "      <th>2</th>\n",
              "      <td>Apa yang menyebabkan terjadinya penyakit atau ...</td>\n",
              "      <td>Penyebab gangguan mental belum diketahui secar...</td>\n",
              "      <td>1</td>\n",
              "    </tr>\n",
              "    <tr>\n",
              "      <th>3</th>\n",
              "      <td>Apa saja gejala-gejala penanda penyakit mental?</td>\n",
              "      <td>Gejala gangguan kesehatan mental sangat bervar...</td>\n",
              "      <td>1</td>\n",
              "    </tr>\n",
              "    <tr>\n",
              "      <th>4</th>\n",
              "      <td>Apakah penderita gangguan mental bisa sembuh?</td>\n",
              "      <td>Penderita gangguan mental tentu saja bisa semb...</td>\n",
              "      <td>1</td>\n",
              "    </tr>\n",
              "    <tr>\n",
              "      <th>...</th>\n",
              "      <td>...</td>\n",
              "      <td>...</td>\n",
              "      <td>...</td>\n",
              "    </tr>\n",
              "    <tr>\n",
              "      <th>1955</th>\n",
              "      <td>Setelah pertama kali bertemu klien, apa proses...</td>\n",
              "      <td>Mungkin tidak ada dua terapis yang sama karena...</td>\n",
              "      <td>8</td>\n",
              "    </tr>\n",
              "    <tr>\n",
              "      <th>1956</th>\n",
              "      <td>Setelah pertama kali bertemu klien, apa proses...</td>\n",
              "      <td>Setiap konselor mungkin memiliki proses yang b...</td>\n",
              "      <td>8</td>\n",
              "    </tr>\n",
              "    <tr>\n",
              "      <th>1957</th>\n",
              "      <td>Setelah pertama kali bertemu klien, apa proses...</td>\n",
              "      <td>Setelah bertemu dengan klien, banyak konselor ...</td>\n",
              "      <td>8</td>\n",
              "    </tr>\n",
              "    <tr>\n",
              "      <th>1958</th>\n",
              "      <td>Setelah pertama kali bertemu klien, apa proses...</td>\n",
              "      <td>Seorang terapis yang baik akan membahas apa ya...</td>\n",
              "      <td>8</td>\n",
              "    </tr>\n",
              "    <tr>\n",
              "      <th>1959</th>\n",
              "      <td>Setelah pertama kali bertemu klien, apa proses...</td>\n",
              "      <td>Pertanyaan bagus yang saya bayangkan juga bany...</td>\n",
              "      <td>8</td>\n",
              "    </tr>\n",
              "  </tbody>\n",
              "</table>\n",
              "<p>1960 rows × 3 columns</p>\n",
              "</div>\n",
              "      <button class=\"colab-df-convert\" onclick=\"convertToInteractive('df-b69e19a9-0d2b-4942-9102-99f7ef442ee1')\"\n",
              "              title=\"Convert this dataframe to an interactive table.\"\n",
              "              style=\"display:none;\">\n",
              "        \n",
              "  <svg xmlns=\"http://www.w3.org/2000/svg\" height=\"24px\"viewBox=\"0 0 24 24\"\n",
              "       width=\"24px\">\n",
              "    <path d=\"M0 0h24v24H0V0z\" fill=\"none\"/>\n",
              "    <path d=\"M18.56 5.44l.94 2.06.94-2.06 2.06-.94-2.06-.94-.94-2.06-.94 2.06-2.06.94zm-11 1L8.5 8.5l.94-2.06 2.06-.94-2.06-.94L8.5 2.5l-.94 2.06-2.06.94zm10 10l.94 2.06.94-2.06 2.06-.94-2.06-.94-.94-2.06-.94 2.06-2.06.94z\"/><path d=\"M17.41 7.96l-1.37-1.37c-.4-.4-.92-.59-1.43-.59-.52 0-1.04.2-1.43.59L10.3 9.45l-7.72 7.72c-.78.78-.78 2.05 0 2.83L4 21.41c.39.39.9.59 1.41.59.51 0 1.02-.2 1.41-.59l7.78-7.78 2.81-2.81c.8-.78.8-2.07 0-2.86zM5.41 20L4 18.59l7.72-7.72 1.47 1.35L5.41 20z\"/>\n",
              "  </svg>\n",
              "      </button>\n",
              "      \n",
              "  <style>\n",
              "    .colab-df-container {\n",
              "      display:flex;\n",
              "      flex-wrap:wrap;\n",
              "      gap: 12px;\n",
              "    }\n",
              "\n",
              "    .colab-df-convert {\n",
              "      background-color: #E8F0FE;\n",
              "      border: none;\n",
              "      border-radius: 50%;\n",
              "      cursor: pointer;\n",
              "      display: none;\n",
              "      fill: #1967D2;\n",
              "      height: 32px;\n",
              "      padding: 0 0 0 0;\n",
              "      width: 32px;\n",
              "    }\n",
              "\n",
              "    .colab-df-convert:hover {\n",
              "      background-color: #E2EBFA;\n",
              "      box-shadow: 0px 1px 2px rgba(60, 64, 67, 0.3), 0px 1px 3px 1px rgba(60, 64, 67, 0.15);\n",
              "      fill: #174EA6;\n",
              "    }\n",
              "\n",
              "    [theme=dark] .colab-df-convert {\n",
              "      background-color: #3B4455;\n",
              "      fill: #D2E3FC;\n",
              "    }\n",
              "\n",
              "    [theme=dark] .colab-df-convert:hover {\n",
              "      background-color: #434B5C;\n",
              "      box-shadow: 0px 1px 3px 1px rgba(0, 0, 0, 0.15);\n",
              "      filter: drop-shadow(0px 1px 2px rgba(0, 0, 0, 0.3));\n",
              "      fill: #FFFFFF;\n",
              "    }\n",
              "  </style>\n",
              "\n",
              "      <script>\n",
              "        const buttonEl =\n",
              "          document.querySelector('#df-b69e19a9-0d2b-4942-9102-99f7ef442ee1 button.colab-df-convert');\n",
              "        buttonEl.style.display =\n",
              "          google.colab.kernel.accessAllowed ? 'block' : 'none';\n",
              "\n",
              "        async function convertToInteractive(key) {\n",
              "          const element = document.querySelector('#df-b69e19a9-0d2b-4942-9102-99f7ef442ee1');\n",
              "          const dataTable =\n",
              "            await google.colab.kernel.invokeFunction('convertToInteractive',\n",
              "                                                     [key], {});\n",
              "          if (!dataTable) return;\n",
              "\n",
              "          const docLinkHtml = 'Like what you see? Visit the ' +\n",
              "            '<a target=\"_blank\" href=https://colab.research.google.com/notebooks/data_table.ipynb>data table notebook</a>'\n",
              "            + ' to learn more about interactive tables.';\n",
              "          element.innerHTML = '';\n",
              "          dataTable['output_type'] = 'display_data';\n",
              "          await google.colab.output.renderOutput(dataTable, element);\n",
              "          const docLink = document.createElement('div');\n",
              "          docLink.innerHTML = docLinkHtml;\n",
              "          element.appendChild(docLink);\n",
              "        }\n",
              "      </script>\n",
              "    </div>\n",
              "  </div>\n",
              "  "
            ]
          },
          "metadata": {},
          "execution_count": 34
        }
      ]
    },
    {
      "cell_type": "markdown",
      "source": [
        "# Text Preprocessing"
      ],
      "metadata": {
        "id": "e5XOalqfPAwJ"
      }
    },
    {
      "cell_type": "markdown",
      "source": [
        "Pembersihan dataset yang digunakan dalam pembuatan model chatbot."
      ],
      "metadata": {
        "id": "NYqQyFH1PCCX"
      }
    },
    {
      "cell_type": "code",
      "source": [
        "# Cleansing\n",
        "\n",
        "REPLACE_BY_SPACE_RE = re.compile('[/(){}\\[\\]\\|@,;]')\n",
        "BAD_SYMBOLS_RE = re.compile('[^0-9a-z #+_]')\n",
        "\n",
        "def text_preprocessing(text):\n",
        "    text = text.lower()\n",
        "    text = REPLACE_BY_SPACE_RE.sub(' ', text)\n",
        "    text = BAD_SYMBOLS_RE.sub(' ', text)\n",
        "    return text"
      ],
      "metadata": {
        "id": "Gd7wITVi5MNx"
      },
      "execution_count": 35,
      "outputs": []
    },
    {
      "cell_type": "code",
      "source": [
        "dataset['pertanyaan'] = dataset['pertanyaan'].apply(text_preprocessing)\n",
        "\n",
        "dataset"
      ],
      "metadata": {
        "colab": {
          "base_uri": "https://localhost:8080/",
          "height": 424
        },
        "id": "4Khx0WMjfXB1",
        "outputId": "83cd5f6e-c882-476f-ecf4-dc4da9ab96e9"
      },
      "execution_count": 36,
      "outputs": [
        {
          "output_type": "execute_result",
          "data": {
            "text/plain": [
              "                                             pertanyaan  \\\n",
              "0     apa artinya memiliki penyakit atau gangguan me...   \n",
              "1     siapa saja yang dapat terkena penyakit atau ga...   \n",
              "2     apa yang menyebabkan terjadinya penyakit atau ...   \n",
              "3       apa saja gejala gejala penanda penyakit mental    \n",
              "4         apakah penderita gangguan mental bisa sembuh    \n",
              "...                                                 ...   \n",
              "1955  setelah pertama kali bertemu klien  apa proses...   \n",
              "1956  setelah pertama kali bertemu klien  apa proses...   \n",
              "1957  setelah pertama kali bertemu klien  apa proses...   \n",
              "1958  setelah pertama kali bertemu klien  apa proses...   \n",
              "1959  setelah pertama kali bertemu klien  apa proses...   \n",
              "\n",
              "                                                jawaban  label  \n",
              "0     Penyakit mental adalah kondisi kesehatan yang ...      1  \n",
              "1     Berdasarkan Sistem Registrasi Sampel yang dila...      1  \n",
              "2     Penyebab gangguan mental belum diketahui secar...      1  \n",
              "3     Gejala gangguan kesehatan mental sangat bervar...      1  \n",
              "4     Penderita gangguan mental tentu saja bisa semb...      1  \n",
              "...                                                 ...    ...  \n",
              "1955  Mungkin tidak ada dua terapis yang sama karena...      8  \n",
              "1956  Setiap konselor mungkin memiliki proses yang b...      8  \n",
              "1957  Setelah bertemu dengan klien, banyak konselor ...      8  \n",
              "1958  Seorang terapis yang baik akan membahas apa ya...      8  \n",
              "1959  Pertanyaan bagus yang saya bayangkan juga bany...      8  \n",
              "\n",
              "[1960 rows x 3 columns]"
            ],
            "text/html": [
              "\n",
              "  <div id=\"df-60b3638f-9c40-40b0-9466-f2ba2bcf92ce\">\n",
              "    <div class=\"colab-df-container\">\n",
              "      <div>\n",
              "<style scoped>\n",
              "    .dataframe tbody tr th:only-of-type {\n",
              "        vertical-align: middle;\n",
              "    }\n",
              "\n",
              "    .dataframe tbody tr th {\n",
              "        vertical-align: top;\n",
              "    }\n",
              "\n",
              "    .dataframe thead th {\n",
              "        text-align: right;\n",
              "    }\n",
              "</style>\n",
              "<table border=\"1\" class=\"dataframe\">\n",
              "  <thead>\n",
              "    <tr style=\"text-align: right;\">\n",
              "      <th></th>\n",
              "      <th>pertanyaan</th>\n",
              "      <th>jawaban</th>\n",
              "      <th>label</th>\n",
              "    </tr>\n",
              "  </thead>\n",
              "  <tbody>\n",
              "    <tr>\n",
              "      <th>0</th>\n",
              "      <td>apa artinya memiliki penyakit atau gangguan me...</td>\n",
              "      <td>Penyakit mental adalah kondisi kesehatan yang ...</td>\n",
              "      <td>1</td>\n",
              "    </tr>\n",
              "    <tr>\n",
              "      <th>1</th>\n",
              "      <td>siapa saja yang dapat terkena penyakit atau ga...</td>\n",
              "      <td>Berdasarkan Sistem Registrasi Sampel yang dila...</td>\n",
              "      <td>1</td>\n",
              "    </tr>\n",
              "    <tr>\n",
              "      <th>2</th>\n",
              "      <td>apa yang menyebabkan terjadinya penyakit atau ...</td>\n",
              "      <td>Penyebab gangguan mental belum diketahui secar...</td>\n",
              "      <td>1</td>\n",
              "    </tr>\n",
              "    <tr>\n",
              "      <th>3</th>\n",
              "      <td>apa saja gejala gejala penanda penyakit mental</td>\n",
              "      <td>Gejala gangguan kesehatan mental sangat bervar...</td>\n",
              "      <td>1</td>\n",
              "    </tr>\n",
              "    <tr>\n",
              "      <th>4</th>\n",
              "      <td>apakah penderita gangguan mental bisa sembuh</td>\n",
              "      <td>Penderita gangguan mental tentu saja bisa semb...</td>\n",
              "      <td>1</td>\n",
              "    </tr>\n",
              "    <tr>\n",
              "      <th>...</th>\n",
              "      <td>...</td>\n",
              "      <td>...</td>\n",
              "      <td>...</td>\n",
              "    </tr>\n",
              "    <tr>\n",
              "      <th>1955</th>\n",
              "      <td>setelah pertama kali bertemu klien  apa proses...</td>\n",
              "      <td>Mungkin tidak ada dua terapis yang sama karena...</td>\n",
              "      <td>8</td>\n",
              "    </tr>\n",
              "    <tr>\n",
              "      <th>1956</th>\n",
              "      <td>setelah pertama kali bertemu klien  apa proses...</td>\n",
              "      <td>Setiap konselor mungkin memiliki proses yang b...</td>\n",
              "      <td>8</td>\n",
              "    </tr>\n",
              "    <tr>\n",
              "      <th>1957</th>\n",
              "      <td>setelah pertama kali bertemu klien  apa proses...</td>\n",
              "      <td>Setelah bertemu dengan klien, banyak konselor ...</td>\n",
              "      <td>8</td>\n",
              "    </tr>\n",
              "    <tr>\n",
              "      <th>1958</th>\n",
              "      <td>setelah pertama kali bertemu klien  apa proses...</td>\n",
              "      <td>Seorang terapis yang baik akan membahas apa ya...</td>\n",
              "      <td>8</td>\n",
              "    </tr>\n",
              "    <tr>\n",
              "      <th>1959</th>\n",
              "      <td>setelah pertama kali bertemu klien  apa proses...</td>\n",
              "      <td>Pertanyaan bagus yang saya bayangkan juga bany...</td>\n",
              "      <td>8</td>\n",
              "    </tr>\n",
              "  </tbody>\n",
              "</table>\n",
              "<p>1960 rows × 3 columns</p>\n",
              "</div>\n",
              "      <button class=\"colab-df-convert\" onclick=\"convertToInteractive('df-60b3638f-9c40-40b0-9466-f2ba2bcf92ce')\"\n",
              "              title=\"Convert this dataframe to an interactive table.\"\n",
              "              style=\"display:none;\">\n",
              "        \n",
              "  <svg xmlns=\"http://www.w3.org/2000/svg\" height=\"24px\"viewBox=\"0 0 24 24\"\n",
              "       width=\"24px\">\n",
              "    <path d=\"M0 0h24v24H0V0z\" fill=\"none\"/>\n",
              "    <path d=\"M18.56 5.44l.94 2.06.94-2.06 2.06-.94-2.06-.94-.94-2.06-.94 2.06-2.06.94zm-11 1L8.5 8.5l.94-2.06 2.06-.94-2.06-.94L8.5 2.5l-.94 2.06-2.06.94zm10 10l.94 2.06.94-2.06 2.06-.94-2.06-.94-.94-2.06-.94 2.06-2.06.94z\"/><path d=\"M17.41 7.96l-1.37-1.37c-.4-.4-.92-.59-1.43-.59-.52 0-1.04.2-1.43.59L10.3 9.45l-7.72 7.72c-.78.78-.78 2.05 0 2.83L4 21.41c.39.39.9.59 1.41.59.51 0 1.02-.2 1.41-.59l7.78-7.78 2.81-2.81c.8-.78.8-2.07 0-2.86zM5.41 20L4 18.59l7.72-7.72 1.47 1.35L5.41 20z\"/>\n",
              "  </svg>\n",
              "      </button>\n",
              "      \n",
              "  <style>\n",
              "    .colab-df-container {\n",
              "      display:flex;\n",
              "      flex-wrap:wrap;\n",
              "      gap: 12px;\n",
              "    }\n",
              "\n",
              "    .colab-df-convert {\n",
              "      background-color: #E8F0FE;\n",
              "      border: none;\n",
              "      border-radius: 50%;\n",
              "      cursor: pointer;\n",
              "      display: none;\n",
              "      fill: #1967D2;\n",
              "      height: 32px;\n",
              "      padding: 0 0 0 0;\n",
              "      width: 32px;\n",
              "    }\n",
              "\n",
              "    .colab-df-convert:hover {\n",
              "      background-color: #E2EBFA;\n",
              "      box-shadow: 0px 1px 2px rgba(60, 64, 67, 0.3), 0px 1px 3px 1px rgba(60, 64, 67, 0.15);\n",
              "      fill: #174EA6;\n",
              "    }\n",
              "\n",
              "    [theme=dark] .colab-df-convert {\n",
              "      background-color: #3B4455;\n",
              "      fill: #D2E3FC;\n",
              "    }\n",
              "\n",
              "    [theme=dark] .colab-df-convert:hover {\n",
              "      background-color: #434B5C;\n",
              "      box-shadow: 0px 1px 3px 1px rgba(0, 0, 0, 0.15);\n",
              "      filter: drop-shadow(0px 1px 2px rgba(0, 0, 0, 0.3));\n",
              "      fill: #FFFFFF;\n",
              "    }\n",
              "  </style>\n",
              "\n",
              "      <script>\n",
              "        const buttonEl =\n",
              "          document.querySelector('#df-60b3638f-9c40-40b0-9466-f2ba2bcf92ce button.colab-df-convert');\n",
              "        buttonEl.style.display =\n",
              "          google.colab.kernel.accessAllowed ? 'block' : 'none';\n",
              "\n",
              "        async function convertToInteractive(key) {\n",
              "          const element = document.querySelector('#df-60b3638f-9c40-40b0-9466-f2ba2bcf92ce');\n",
              "          const dataTable =\n",
              "            await google.colab.kernel.invokeFunction('convertToInteractive',\n",
              "                                                     [key], {});\n",
              "          if (!dataTable) return;\n",
              "\n",
              "          const docLinkHtml = 'Like what you see? Visit the ' +\n",
              "            '<a target=\"_blank\" href=https://colab.research.google.com/notebooks/data_table.ipynb>data table notebook</a>'\n",
              "            + ' to learn more about interactive tables.';\n",
              "          element.innerHTML = '';\n",
              "          dataTable['output_type'] = 'display_data';\n",
              "          await google.colab.output.renderOutput(dataTable, element);\n",
              "          const docLink = document.createElement('div');\n",
              "          docLink.innerHTML = docLinkHtml;\n",
              "          element.appendChild(docLink);\n",
              "        }\n",
              "      </script>\n",
              "    </div>\n",
              "  </div>\n",
              "  "
            ]
          },
          "metadata": {},
          "execution_count": 36
        }
      ]
    },
    {
      "cell_type": "code",
      "source": [
        "print(f\"Total vocabulary: {dataset['pertanyaan'].apply(lambda x: len(x.split(' '))).sum()}\")\n",
        "print(f\"Max length: {dataset['pertanyaan'].apply(lambda x: len(x.split(' '))).max()}\")"
      ],
      "metadata": {
        "colab": {
          "base_uri": "https://localhost:8080/"
        },
        "id": "tdfAHWJj5tR7",
        "outputId": "3ac88201-1691-4453-ce42-589b49889a37"
      },
      "execution_count": 37,
      "outputs": [
        {
          "output_type": "stream",
          "name": "stdout",
          "text": [
            "Total vocabulary: 104754\n",
            "Max length: 545\n"
          ]
        }
      ]
    },
    {
      "cell_type": "code",
      "source": [
        "# Split data train dan test\n",
        "\n",
        "X = dataset['pertanyaan']\n",
        "y = pd.get_dummies(dataset['label'])\n",
        "\n",
        "X_train, X_test, y_train, y_test = train_test_split(\n",
        "    X, y,\n",
        "    test_size=0.2,\n",
        "    random_state=42\n",
        ")\n",
        "\n",
        "print(f'{X_train.shape} {y_train.shape}')\n",
        "print(f'{X_test.shape} {y_test.shape}')"
      ],
      "metadata": {
        "colab": {
          "base_uri": "https://localhost:8080/"
        },
        "id": "Pv3DKi4t5xzJ",
        "outputId": "68b1e567-e622-441b-9411-f760fd39e166"
      },
      "execution_count": 38,
      "outputs": [
        {
          "output_type": "stream",
          "name": "stdout",
          "text": [
            "(1568,) (1568, 16)\n",
            "(392,) (392, 16)\n"
          ]
        }
      ]
    },
    {
      "cell_type": "code",
      "source": [
        "# Melihat total vocabulary dan max length pada data X_train\n",
        "\n",
        "total_words = []\n",
        "for i, v in enumerate(X_train.values):\n",
        "    total_words.extend(v.split())\n",
        "\n",
        "total_words = set(total_words)\n",
        "print(f'Total vocabulary: {len(total_words)}')\n",
        "print(f'Max length of the text: {max([len(teks) for teks in X_train])}')"
      ],
      "metadata": {
        "colab": {
          "base_uri": "https://localhost:8080/"
        },
        "id": "8zqFPC2n51SX",
        "outputId": "cfe3dcd2-a32b-4bc3-8824-480528967b5f"
      },
      "execution_count": 39,
      "outputs": [
        {
          "output_type": "stream",
          "name": "stdout",
          "text": [
            "Total vocabulary: 2876\n",
            "Max length of the text: 3024\n"
          ]
        }
      ]
    },
    {
      "cell_type": "code",
      "source": [
        "# Inisialisasi Tokenizer object\n",
        "\n",
        "# Jumlah maksimum kata yang akan digunakan (paling sering)\n",
        "MAX_NB_WORDS = 3000\n",
        "# Jumlah maksimum kata dalam sequence\n",
        "MAX_SEQUENCE_LENGTH = 150\n",
        "# Fixed embedding\n",
        "EMBEDDING_DIM = 150\n",
        "\n",
        "tokenizer = Tokenizer(\n",
        "    num_words=MAX_NB_WORDS,\n",
        "    filters='!\"#$%&()*+,-./:;<=>?@[\\]^_`{|}~',\n",
        "    lower=True,\n",
        "    oov_token='<OOV>'\n",
        ")"
      ],
      "metadata": {
        "id": "WtxszSeg53Vk"
      },
      "execution_count": 40,
      "outputs": []
    },
    {
      "cell_type": "code",
      "source": [
        "# Tokenizing, Sequencing, dan Padding\n",
        "\n",
        "tokenizer.fit_on_texts(X_train.values)\n",
        "nb_words = tokenizer.word_index\n",
        "\n",
        "# Train\n",
        "X_train = tokenizer.texts_to_sequences(X_train.values)\n",
        "X_train = pad_sequences(X_train, maxlen=MAX_SEQUENCE_LENGTH, padding='post', truncating='post')\n",
        "\n",
        "# Test\n",
        "X_test = tokenizer.texts_to_sequences(X_test.values)\n",
        "X_test = pad_sequences(X_test, maxlen=MAX_SEQUENCE_LENGTH, padding='post', truncating='post')\n",
        "\n",
        "print(f'Found {len(nb_words)} unique tokens.')\n",
        "print(f'Shape of data tensor: {X_train.shape}')"
      ],
      "metadata": {
        "colab": {
          "base_uri": "https://localhost:8080/"
        },
        "id": "RKHfO5q256c8",
        "outputId": "2c92c295-8380-43ad-b114-401dc7bbf21d"
      },
      "execution_count": 41,
      "outputs": [
        {
          "output_type": "stream",
          "name": "stdout",
          "text": [
            "Found 2877 unique tokens.\n",
            "Shape of data tensor: (1568, 150)\n"
          ]
        }
      ]
    },
    {
      "cell_type": "markdown",
      "source": [
        "# LSTM Model"
      ],
      "metadata": {
        "id": "IUwnZ5yQPxQj"
      }
    },
    {
      "cell_type": "markdown",
      "source": [
        "Pembuatan model chatbot LSTM."
      ],
      "metadata": {
        "id": "Ri7mDgO0Py52"
      }
    },
    {
      "cell_type": "code",
      "source": [
        "# Membuat model\n",
        "\n",
        "model = tf.keras.Sequential([\n",
        "    tf.keras.layers.Embedding(MAX_NB_WORDS, EMBEDDING_DIM, input_length=X_train.shape[1]),\n",
        "    tf.keras.layers.SpatialDropout1D(0.2),\n",
        "    tf.keras.layers.LSTM(64, dropout=0.2, recurrent_dropout=0.2, return_sequences=True),\n",
        "    tf.keras.layers.LSTM(64, dropout=0.2, recurrent_dropout=0.2),\n",
        "    tf.keras.layers.Dense(64, activation='relu'),\n",
        "    tf.keras.layers.Dense(16, activation='softmax')\n",
        "])\n",
        "\n",
        "model.compile(\n",
        "    loss='categorical_crossentropy',\n",
        "    optimizer='adam',\n",
        "    metrics=['accuracy']\n",
        ")"
      ],
      "metadata": {
        "id": "D5eV6clZ58lB"
      },
      "execution_count": 42,
      "outputs": []
    },
    {
      "cell_type": "code",
      "source": [
        "model.summary()"
      ],
      "metadata": {
        "colab": {
          "base_uri": "https://localhost:8080/"
        },
        "id": "5zVMMzBh6DEK",
        "outputId": "5d111539-acf6-4c4f-9938-c2a2743fd693"
      },
      "execution_count": 43,
      "outputs": [
        {
          "output_type": "stream",
          "name": "stdout",
          "text": [
            "Model: \"sequential_2\"\n",
            "_________________________________________________________________\n",
            " Layer (type)                Output Shape              Param #   \n",
            "=================================================================\n",
            " embedding_2 (Embedding)     (None, 150, 150)          450000    \n",
            "                                                                 \n",
            " spatial_dropout1d_2 (Spatia  (None, 150, 150)         0         \n",
            " lDropout1D)                                                     \n",
            "                                                                 \n",
            " lstm_4 (LSTM)               (None, 150, 64)           55040     \n",
            "                                                                 \n",
            " lstm_5 (LSTM)               (None, 64)                33024     \n",
            "                                                                 \n",
            " dense_4 (Dense)             (None, 64)                4160      \n",
            "                                                                 \n",
            " dense_5 (Dense)             (None, 16)                1040      \n",
            "                                                                 \n",
            "=================================================================\n",
            "Total params: 543,264\n",
            "Trainable params: 543,264\n",
            "Non-trainable params: 0\n",
            "_________________________________________________________________\n"
          ]
        }
      ]
    },
    {
      "cell_type": "code",
      "source": [
        "# Plot arsitektur model\n",
        "\n",
        "from keras.utils.vis_utils import plot_model\n",
        "plot_model(model, to_file='model_plot.png', show_shapes=True, show_layer_names=True)"
      ],
      "metadata": {
        "id": "KiKmhcLaQN5Q",
        "outputId": "15c4bd17-00b5-4245-aeb7-9f33ba4e7ee9",
        "colab": {
          "base_uri": "https://localhost:8080/",
          "height": 754
        }
      },
      "execution_count": 44,
      "outputs": [
        {
          "output_type": "execute_result",
          "data": {
            "image/png": "[encoded data removed]",
            "text/plain": [
              "<IPython.core.display.Image object>"
            ]
          },
          "metadata": {},
          "execution_count": 44
        }
      ]
    },
    {
      "cell_type": "code",
      "source": [
        "from tensorflow.keras.callbacks import EarlyStopping"
      ],
      "metadata": {
        "id": "VmKqOj476Kbf"
      },
      "execution_count": null,
      "outputs": []
    },
    {
      "cell_type": "code",
      "source": [
        "# Training model\n",
        "\n",
        "num_epochs = 120\n",
        "batch_size = 128\n",
        "\n",
        "train = model.fit(\n",
        "    X_train, y_train,\n",
        "    validation_split=0.2,\n",
        "    epochs=num_epochs,\n",
        "    batch_size=batch_size,\n",
        "    verbose=2\n",
        "    # callbacks=[EarlyStopping(monitor=\"val_loss\", patience=2)]\n",
        ")"
      ],
      "metadata": {
        "colab": {
          "base_uri": "https://localhost:8080/"
        },
        "id": "CdJblPAm6O4l",
        "outputId": "d2b17da8-622a-4fbd-f284-40b2e2cd7df5"
      },
      "execution_count": null,
      "outputs": [
        {
          "output_type": "stream",
          "name": "stdout",
          "text": [
            "Epoch 1/120\n",
            "10/10 - 10s - loss: 1.0261 - accuracy: 0.5965 - val_loss: 1.6227 - val_accuracy: 0.4936 - 10s/epoch - 984ms/step\n",
            "Epoch 2/120\n",
            "10/10 - 10s - loss: 1.0021 - accuracy: 0.6029 - val_loss: 1.5712 - val_accuracy: 0.5318 - 10s/epoch - 974ms/step\n",
            "Epoch 3/120\n",
            "10/10 - 10s - loss: 0.9586 - accuracy: 0.6180 - val_loss: 1.6081 - val_accuracy: 0.5541 - 10s/epoch - 966ms/step\n",
            "Epoch 4/120\n",
            "10/10 - 10s - loss: 0.9525 - accuracy: 0.6316 - val_loss: 1.6550 - val_accuracy: 0.5510 - 10s/epoch - 965ms/step\n",
            "Epoch 5/120\n",
            "10/10 - 10s - loss: 0.8902 - accuracy: 0.6547 - val_loss: 1.6222 - val_accuracy: 0.5637 - 10s/epoch - 974ms/step\n",
            "Epoch 6/120\n",
            "10/10 - 10s - loss: 0.8647 - accuracy: 0.6691 - val_loss: 1.6310 - val_accuracy: 0.5605 - 10s/epoch - 976ms/step\n",
            "Epoch 7/120\n",
            "10/10 - 10s - loss: 0.8500 - accuracy: 0.6850 - val_loss: 1.6508 - val_accuracy: 0.5669 - 10s/epoch - 974ms/step\n",
            "Epoch 8/120\n",
            "10/10 - 10s - loss: 0.8329 - accuracy: 0.6746 - val_loss: 1.8068 - val_accuracy: 0.5287 - 10s/epoch - 987ms/step\n",
            "Epoch 9/120\n",
            "10/10 - 10s - loss: 0.8329 - accuracy: 0.6746 - val_loss: 1.7274 - val_accuracy: 0.5764 - 10s/epoch - 1s/step\n",
            "Epoch 10/120\n",
            "10/10 - 11s - loss: 0.7893 - accuracy: 0.7089 - val_loss: 1.8552 - val_accuracy: 0.5573 - 11s/epoch - 1s/step\n",
            "Epoch 11/120\n",
            "10/10 - 11s - loss: 0.7640 - accuracy: 0.7177 - val_loss: 1.7251 - val_accuracy: 0.5892 - 11s/epoch - 1s/step\n",
            "Epoch 12/120\n",
            "10/10 - 10s - loss: 0.7314 - accuracy: 0.7265 - val_loss: 1.8217 - val_accuracy: 0.5669 - 10s/epoch - 1s/step\n",
            "Epoch 13/120\n",
            "10/10 - 10s - loss: 0.7214 - accuracy: 0.7225 - val_loss: 1.8280 - val_accuracy: 0.5828 - 10s/epoch - 1s/step\n",
            "Epoch 14/120\n",
            "10/10 - 10s - loss: 0.7318 - accuracy: 0.7169 - val_loss: 1.7757 - val_accuracy: 0.6051 - 10s/epoch - 1s/step\n",
            "Epoch 15/120\n",
            "10/10 - 10s - loss: 0.6825 - accuracy: 0.7624 - val_loss: 2.0070 - val_accuracy: 0.5955 - 10s/epoch - 1s/step\n",
            "Epoch 16/120\n",
            "10/10 - 10s - loss: 0.7125 - accuracy: 0.7217 - val_loss: 1.9652 - val_accuracy: 0.5860 - 10s/epoch - 1s/step\n",
            "Epoch 17/120\n",
            "10/10 - 10s - loss: 0.6518 - accuracy: 0.7456 - val_loss: 1.8732 - val_accuracy: 0.6083 - 10s/epoch - 1s/step\n",
            "Epoch 18/120\n",
            "10/10 - 10s - loss: 0.6308 - accuracy: 0.7624 - val_loss: 1.8264 - val_accuracy: 0.6146 - 10s/epoch - 1s/step\n",
            "Epoch 19/120\n",
            "10/10 - 11s - loss: 0.6134 - accuracy: 0.7759 - val_loss: 1.8632 - val_accuracy: 0.6242 - 11s/epoch - 1s/step\n",
            "Epoch 20/120\n",
            "10/10 - 12s - loss: 0.5865 - accuracy: 0.7648 - val_loss: 1.9903 - val_accuracy: 0.5764 - 12s/epoch - 1s/step\n",
            "Epoch 21/120\n",
            "10/10 - 11s - loss: 0.5692 - accuracy: 0.7743 - val_loss: 1.8176 - val_accuracy: 0.6083 - 11s/epoch - 1s/step\n",
            "Epoch 22/120\n",
            "10/10 - 12s - loss: 0.5651 - accuracy: 0.7703 - val_loss: 1.8963 - val_accuracy: 0.6306 - 12s/epoch - 1s/step\n",
            "Epoch 23/120\n",
            "10/10 - 11s - loss: 0.5471 - accuracy: 0.7767 - val_loss: 1.9177 - val_accuracy: 0.6146 - 11s/epoch - 1s/step\n",
            "Epoch 24/120\n",
            "10/10 - 11s - loss: 0.5463 - accuracy: 0.7855 - val_loss: 1.8202 - val_accuracy: 0.6083 - 11s/epoch - 1s/step\n",
            "Epoch 25/120\n",
            "10/10 - 11s - loss: 0.5399 - accuracy: 0.7911 - val_loss: 1.9739 - val_accuracy: 0.6529 - 11s/epoch - 1s/step\n",
            "Epoch 26/120\n",
            "10/10 - 11s - loss: 0.5409 - accuracy: 0.8006 - val_loss: 2.1160 - val_accuracy: 0.6338 - 11s/epoch - 1s/step\n",
            "Epoch 27/120\n",
            "10/10 - 11s - loss: 0.4930 - accuracy: 0.8174 - val_loss: 2.0647 - val_accuracy: 0.6561 - 11s/epoch - 1s/step\n",
            "Epoch 28/120\n",
            "10/10 - 11s - loss: 0.5360 - accuracy: 0.7807 - val_loss: 2.1055 - val_accuracy: 0.6497 - 11s/epoch - 1s/step\n",
            "Epoch 29/120\n",
            "10/10 - 11s - loss: 0.4949 - accuracy: 0.8086 - val_loss: 2.1281 - val_accuracy: 0.6529 - 11s/epoch - 1s/step\n",
            "Epoch 30/120\n",
            "10/10 - 11s - loss: 0.4883 - accuracy: 0.8054 - val_loss: 1.9933 - val_accuracy: 0.6369 - 11s/epoch - 1s/step\n",
            "Epoch 31/120\n",
            "10/10 - 11s - loss: 0.4592 - accuracy: 0.8094 - val_loss: 2.2337 - val_accuracy: 0.6306 - 11s/epoch - 1s/step\n",
            "Epoch 32/120\n",
            "10/10 - 11s - loss: 0.5383 - accuracy: 0.7887 - val_loss: 1.8832 - val_accuracy: 0.6815 - 11s/epoch - 1s/step\n",
            "Epoch 33/120\n",
            "10/10 - 12s - loss: 0.5664 - accuracy: 0.7584 - val_loss: 2.0002 - val_accuracy: 0.6592 - 12s/epoch - 1s/step\n",
            "Epoch 34/120\n",
            "10/10 - 12s - loss: 0.4697 - accuracy: 0.8142 - val_loss: 1.9116 - val_accuracy: 0.6720 - 12s/epoch - 1s/step\n",
            "Epoch 35/120\n",
            "10/10 - 14s - loss: 0.4034 - accuracy: 0.8270 - val_loss: 1.9541 - val_accuracy: 0.6561 - 14s/epoch - 1s/step\n",
            "Epoch 36/120\n",
            "10/10 - 13s - loss: 0.4110 - accuracy: 0.8325 - val_loss: 1.9826 - val_accuracy: 0.6561 - 13s/epoch - 1s/step\n",
            "Epoch 37/120\n",
            "10/10 - 11s - loss: 0.3795 - accuracy: 0.8445 - val_loss: 2.0474 - val_accuracy: 0.6561 - 11s/epoch - 1s/step\n",
            "Epoch 38/120\n",
            "10/10 - 12s - loss: 0.3538 - accuracy: 0.8453 - val_loss: 1.9974 - val_accuracy: 0.6847 - 12s/epoch - 1s/step\n",
            "Epoch 39/120\n",
            "10/10 - 11s - loss: 0.3434 - accuracy: 0.8437 - val_loss: 1.9835 - val_accuracy: 0.6847 - 11s/epoch - 1s/step\n",
            "Epoch 40/120\n",
            "10/10 - 11s - loss: 0.3527 - accuracy: 0.8501 - val_loss: 2.0037 - val_accuracy: 0.6879 - 11s/epoch - 1s/step\n",
            "Epoch 41/120\n",
            "10/10 - 11s - loss: 0.3361 - accuracy: 0.8469 - val_loss: 2.0782 - val_accuracy: 0.6720 - 11s/epoch - 1s/step\n",
            "Epoch 42/120\n",
            "10/10 - 11s - loss: 0.4262 - accuracy: 0.8349 - val_loss: 2.0744 - val_accuracy: 0.6592 - 11s/epoch - 1s/step\n",
            "Epoch 43/120\n",
            "10/10 - 11s - loss: 0.4709 - accuracy: 0.8038 - val_loss: 2.2446 - val_accuracy: 0.6115 - 11s/epoch - 1s/step\n",
            "Epoch 44/120\n",
            "10/10 - 11s - loss: 0.3851 - accuracy: 0.8301 - val_loss: 2.1119 - val_accuracy: 0.6624 - 11s/epoch - 1s/step\n",
            "Epoch 45/120\n",
            "10/10 - 10s - loss: 0.3600 - accuracy: 0.8381 - val_loss: 2.0863 - val_accuracy: 0.6529 - 10s/epoch - 1s/step\n",
            "Epoch 46/120\n",
            "10/10 - 11s - loss: 0.3455 - accuracy: 0.8453 - val_loss: 2.0808 - val_accuracy: 0.6720 - 11s/epoch - 1s/step\n",
            "Epoch 47/120\n",
            "10/10 - 11s - loss: 0.3185 - accuracy: 0.8485 - val_loss: 2.1895 - val_accuracy: 0.6592 - 11s/epoch - 1s/step\n",
            "Epoch 48/120\n",
            "10/10 - 11s - loss: 0.3096 - accuracy: 0.8596 - val_loss: 2.1944 - val_accuracy: 0.6433 - 11s/epoch - 1s/step\n",
            "Epoch 49/120\n",
            "10/10 - 10s - loss: 0.3166 - accuracy: 0.8676 - val_loss: 2.2381 - val_accuracy: 0.6529 - 10s/epoch - 1s/step\n",
            "Epoch 50/120\n",
            "10/10 - 10s - loss: 0.3059 - accuracy: 0.8557 - val_loss: 2.1907 - val_accuracy: 0.6497 - 10s/epoch - 1s/step\n",
            "Epoch 51/120\n",
            "10/10 - 11s - loss: 0.3062 - accuracy: 0.8684 - val_loss: 2.2099 - val_accuracy: 0.6497 - 11s/epoch - 1s/step\n",
            "Epoch 52/120\n",
            "10/10 - 11s - loss: 0.2911 - accuracy: 0.8748 - val_loss: 2.2685 - val_accuracy: 0.6720 - 11s/epoch - 1s/step\n",
            "Epoch 53/120\n",
            "10/10 - 10s - loss: 0.2817 - accuracy: 0.8668 - val_loss: 2.2958 - val_accuracy: 0.6688 - 10s/epoch - 1s/step\n",
            "Epoch 54/120\n",
            "10/10 - 11s - loss: 0.2994 - accuracy: 0.8573 - val_loss: 2.2055 - val_accuracy: 0.6656 - 11s/epoch - 1s/step\n",
            "Epoch 55/120\n",
            "10/10 - 11s - loss: 0.2880 - accuracy: 0.8684 - val_loss: 2.2102 - val_accuracy: 0.6497 - 11s/epoch - 1s/step\n",
            "Epoch 56/120\n",
            "10/10 - 11s - loss: 0.2838 - accuracy: 0.8660 - val_loss: 2.2379 - val_accuracy: 0.6401 - 11s/epoch - 1s/step\n",
            "Epoch 57/120\n",
            "10/10 - 11s - loss: 0.2721 - accuracy: 0.8668 - val_loss: 2.2782 - val_accuracy: 0.6624 - 11s/epoch - 1s/step\n",
            "Epoch 58/120\n",
            "10/10 - 11s - loss: 0.2763 - accuracy: 0.8724 - val_loss: 2.4655 - val_accuracy: 0.6592 - 11s/epoch - 1s/step\n",
            "Epoch 59/120\n",
            "10/10 - 11s - loss: 0.2986 - accuracy: 0.8700 - val_loss: 2.4061 - val_accuracy: 0.6752 - 11s/epoch - 1s/step\n",
            "Epoch 60/120\n",
            "10/10 - 12s - loss: 0.2637 - accuracy: 0.8812 - val_loss: 2.2387 - val_accuracy: 0.6688 - 12s/epoch - 1s/step\n",
            "Epoch 61/120\n",
            "10/10 - 11s - loss: 0.3060 - accuracy: 0.8589 - val_loss: 2.3279 - val_accuracy: 0.6624 - 11s/epoch - 1s/step\n",
            "Epoch 62/120\n",
            "10/10 - 11s - loss: 0.2717 - accuracy: 0.8740 - val_loss: 2.3324 - val_accuracy: 0.6529 - 11s/epoch - 1s/step\n",
            "Epoch 63/120\n",
            "10/10 - 11s - loss: 0.2580 - accuracy: 0.8836 - val_loss: 2.4000 - val_accuracy: 0.6338 - 11s/epoch - 1s/step\n",
            "Epoch 64/120\n",
            "10/10 - 11s - loss: 0.2658 - accuracy: 0.8780 - val_loss: 2.3179 - val_accuracy: 0.6624 - 11s/epoch - 1s/step\n",
            "Epoch 65/120\n",
            "10/10 - 11s - loss: 0.2606 - accuracy: 0.8788 - val_loss: 2.3112 - val_accuracy: 0.6688 - 11s/epoch - 1s/step\n",
            "Epoch 66/120\n",
            "10/10 - 12s - loss: 0.2505 - accuracy: 0.8868 - val_loss: 2.3071 - val_accuracy: 0.6783 - 12s/epoch - 1s/step\n",
            "Epoch 67/120\n",
            "10/10 - 12s - loss: 0.2494 - accuracy: 0.8844 - val_loss: 2.3555 - val_accuracy: 0.6656 - 12s/epoch - 1s/step\n",
            "Epoch 68/120\n",
            "10/10 - 11s - loss: 0.2230 - accuracy: 0.9059 - val_loss: 2.3414 - val_accuracy: 0.6624 - 11s/epoch - 1s/step\n",
            "Epoch 69/120\n",
            "10/10 - 11s - loss: 0.2471 - accuracy: 0.8796 - val_loss: 2.4374 - val_accuracy: 0.6688 - 11s/epoch - 1s/step\n",
            "Epoch 70/120\n",
            "10/10 - 11s - loss: 0.2231 - accuracy: 0.9003 - val_loss: 2.4012 - val_accuracy: 0.6656 - 11s/epoch - 1s/step\n",
            "Epoch 71/120\n",
            "10/10 - 10s - loss: 0.2173 - accuracy: 0.9051 - val_loss: 2.4603 - val_accuracy: 0.6656 - 10s/epoch - 1s/step\n",
            "Epoch 72/120\n",
            "10/10 - 11s - loss: 0.2195 - accuracy: 0.8939 - val_loss: 2.3725 - val_accuracy: 0.6847 - 11s/epoch - 1s/step\n",
            "Epoch 73/120\n",
            "10/10 - 11s - loss: 0.2236 - accuracy: 0.8907 - val_loss: 2.3860 - val_accuracy: 0.6720 - 11s/epoch - 1s/step\n",
            "Epoch 74/120\n",
            "10/10 - 11s - loss: 0.2186 - accuracy: 0.8995 - val_loss: 2.4189 - val_accuracy: 0.6720 - 11s/epoch - 1s/step\n",
            "Epoch 75/120\n",
            "10/10 - 10s - loss: 0.2631 - accuracy: 0.8700 - val_loss: 2.4505 - val_accuracy: 0.6752 - 10s/epoch - 987ms/step\n",
            "Epoch 76/120\n",
            "10/10 - 10s - loss: 0.2350 - accuracy: 0.8923 - val_loss: 2.4397 - val_accuracy: 0.6943 - 10s/epoch - 969ms/step\n",
            "Epoch 77/120\n",
            "10/10 - 10s - loss: 0.2334 - accuracy: 0.8884 - val_loss: 2.4688 - val_accuracy: 0.6529 - 10s/epoch - 978ms/step\n",
            "Epoch 78/120\n",
            "10/10 - 10s - loss: 0.2044 - accuracy: 0.9075 - val_loss: 2.4536 - val_accuracy: 0.6815 - 10s/epoch - 966ms/step\n",
            "Epoch 79/120\n",
            "10/10 - 11s - loss: 0.1954 - accuracy: 0.9035 - val_loss: 2.4546 - val_accuracy: 0.6688 - 11s/epoch - 1s/step\n",
            "Epoch 80/120\n",
            "10/10 - 10s - loss: 0.1922 - accuracy: 0.9035 - val_loss: 2.4537 - val_accuracy: 0.6720 - 10s/epoch - 976ms/step\n",
            "Epoch 81/120\n",
            "10/10 - 10s - loss: 0.1790 - accuracy: 0.9147 - val_loss: 2.5754 - val_accuracy: 0.6624 - 10s/epoch - 1s/step\n",
            "Epoch 82/120\n",
            "10/10 - 10s - loss: 0.1988 - accuracy: 0.9019 - val_loss: 2.5660 - val_accuracy: 0.6529 - 10s/epoch - 990ms/step\n",
            "Epoch 83/120\n",
            "10/10 - 13s - loss: 0.2231 - accuracy: 0.8796 - val_loss: 2.5658 - val_accuracy: 0.6592 - 13s/epoch - 1s/step\n",
            "Epoch 84/120\n",
            "10/10 - 11s - loss: 0.1928 - accuracy: 0.9155 - val_loss: 2.5672 - val_accuracy: 0.6624 - 11s/epoch - 1s/step\n",
            "Epoch 85/120\n",
            "10/10 - 10s - loss: 0.1910 - accuracy: 0.9059 - val_loss: 2.5226 - val_accuracy: 0.6688 - 10s/epoch - 1s/step\n",
            "Epoch 86/120\n",
            "10/10 - 10s - loss: 0.1985 - accuracy: 0.8947 - val_loss: 2.5371 - val_accuracy: 0.6624 - 10s/epoch - 1s/step\n",
            "Epoch 87/120\n",
            "10/10 - 10s - loss: 0.1941 - accuracy: 0.9059 - val_loss: 2.6321 - val_accuracy: 0.6688 - 10s/epoch - 996ms/step\n",
            "Epoch 88/120\n",
            "10/10 - 10s - loss: 0.1775 - accuracy: 0.9155 - val_loss: 2.5980 - val_accuracy: 0.6688 - 10s/epoch - 982ms/step\n",
            "Epoch 89/120\n",
            "10/10 - 10s - loss: 0.1773 - accuracy: 0.9123 - val_loss: 2.5654 - val_accuracy: 0.6720 - 10s/epoch - 971ms/step\n",
            "Epoch 90/120\n",
            "10/10 - 10s - loss: 0.1736 - accuracy: 0.9147 - val_loss: 2.5637 - val_accuracy: 0.6688 - 10s/epoch - 1s/step\n",
            "Epoch 91/120\n",
            "10/10 - 10s - loss: 0.1742 - accuracy: 0.9131 - val_loss: 2.6433 - val_accuracy: 0.6720 - 10s/epoch - 1s/step\n",
            "Epoch 92/120\n",
            "10/10 - 10s - loss: 0.1640 - accuracy: 0.9195 - val_loss: 2.6254 - val_accuracy: 0.6656 - 10s/epoch - 1s/step\n",
            "Epoch 93/120\n",
            "10/10 - 11s - loss: 0.1657 - accuracy: 0.9250 - val_loss: 2.6439 - val_accuracy: 0.6624 - 11s/epoch - 1s/step\n",
            "Epoch 94/120\n",
            "10/10 - 10s - loss: 0.1691 - accuracy: 0.9171 - val_loss: 2.6172 - val_accuracy: 0.6624 - 10s/epoch - 1s/step\n",
            "Epoch 95/120\n",
            "10/10 - 10s - loss: 0.1606 - accuracy: 0.9226 - val_loss: 2.5954 - val_accuracy: 0.6561 - 10s/epoch - 996ms/step\n",
            "Epoch 96/120\n",
            "10/10 - 10s - loss: 0.1715 - accuracy: 0.9155 - val_loss: 2.6036 - val_accuracy: 0.6752 - 10s/epoch - 1s/step\n",
            "Epoch 97/120\n",
            "10/10 - 10s - loss: 0.1659 - accuracy: 0.9203 - val_loss: 2.6600 - val_accuracy: 0.6783 - 10s/epoch - 1s/step\n",
            "Epoch 98/120\n",
            "10/10 - 10s - loss: 0.1709 - accuracy: 0.9163 - val_loss: 2.7327 - val_accuracy: 0.6624 - 10s/epoch - 1s/step\n",
            "Epoch 99/120\n",
            "10/10 - 10s - loss: 0.1796 - accuracy: 0.9091 - val_loss: 2.6249 - val_accuracy: 0.6465 - 10s/epoch - 1s/step\n",
            "Epoch 100/120\n",
            "10/10 - 10s - loss: 0.1710 - accuracy: 0.9147 - val_loss: 2.6027 - val_accuracy: 0.6465 - 10s/epoch - 1s/step\n",
            "Epoch 101/120\n",
            "10/10 - 11s - loss: 0.1737 - accuracy: 0.9075 - val_loss: 2.6070 - val_accuracy: 0.6688 - 11s/epoch - 1s/step\n",
            "Epoch 102/120\n",
            "10/10 - 11s - loss: 0.1759 - accuracy: 0.9203 - val_loss: 2.7326 - val_accuracy: 0.6592 - 11s/epoch - 1s/step\n",
            "Epoch 103/120\n",
            "10/10 - 10s - loss: 0.1653 - accuracy: 0.9203 - val_loss: 2.7334 - val_accuracy: 0.6688 - 10s/epoch - 989ms/step\n",
            "Epoch 104/120\n",
            "10/10 - 10s - loss: 0.1678 - accuracy: 0.9155 - val_loss: 2.7335 - val_accuracy: 0.6624 - 10s/epoch - 985ms/step\n",
            "Epoch 105/120\n",
            "10/10 - 10s - loss: 0.1577 - accuracy: 0.9179 - val_loss: 2.5794 - val_accuracy: 0.6752 - 10s/epoch - 1s/step\n",
            "Epoch 106/120\n",
            "10/10 - 10s - loss: 0.1674 - accuracy: 0.9234 - val_loss: 2.6456 - val_accuracy: 0.6752 - 10s/epoch - 1s/step\n",
            "Epoch 107/120\n",
            "10/10 - 10s - loss: 0.1650 - accuracy: 0.9234 - val_loss: 2.6795 - val_accuracy: 0.6752 - 10s/epoch - 984ms/step\n",
            "Epoch 108/120\n",
            "10/10 - 10s - loss: 0.1663 - accuracy: 0.9226 - val_loss: 2.6276 - val_accuracy: 0.6688 - 10s/epoch - 978ms/step\n",
            "Epoch 109/120\n",
            "10/10 - 10s - loss: 0.1612 - accuracy: 0.9171 - val_loss: 2.8927 - val_accuracy: 0.6561 - 10s/epoch - 977ms/step\n",
            "Epoch 110/120\n",
            "10/10 - 10s - loss: 0.1528 - accuracy: 0.9234 - val_loss: 2.6740 - val_accuracy: 0.6656 - 10s/epoch - 1s/step\n",
            "Epoch 111/120\n",
            "10/10 - 10s - loss: 0.1614 - accuracy: 0.9211 - val_loss: 2.7288 - val_accuracy: 0.6847 - 10s/epoch - 997ms/step\n",
            "Epoch 112/120\n",
            "10/10 - 10s - loss: 0.1461 - accuracy: 0.9282 - val_loss: 2.7333 - val_accuracy: 0.6592 - 10s/epoch - 971ms/step\n",
            "Epoch 113/120\n",
            "10/10 - 10s - loss: 0.1438 - accuracy: 0.9226 - val_loss: 2.8270 - val_accuracy: 0.6561 - 10s/epoch - 1s/step\n",
            "Epoch 114/120\n",
            "10/10 - 10s - loss: 0.1406 - accuracy: 0.9226 - val_loss: 2.7151 - val_accuracy: 0.6752 - 10s/epoch - 1000ms/step\n",
            "Epoch 115/120\n",
            "10/10 - 10s - loss: 0.1383 - accuracy: 0.9274 - val_loss: 2.6980 - val_accuracy: 0.6688 - 10s/epoch - 1s/step\n",
            "Epoch 116/120\n",
            "10/10 - 10s - loss: 0.1336 - accuracy: 0.9274 - val_loss: 2.8477 - val_accuracy: 0.6529 - 10s/epoch - 1s/step\n",
            "Epoch 117/120\n",
            "10/10 - 10s - loss: 0.1506 - accuracy: 0.9171 - val_loss: 2.7523 - val_accuracy: 0.6879 - 10s/epoch - 990ms/step\n",
            "Epoch 118/120\n",
            "10/10 - 10s - loss: 0.1484 - accuracy: 0.9298 - val_loss: 2.6976 - val_accuracy: 0.6656 - 10s/epoch - 971ms/step\n",
            "Epoch 119/120\n",
            "10/10 - 10s - loss: 0.1436 - accuracy: 0.9250 - val_loss: 2.8541 - val_accuracy: 0.6592 - 10s/epoch - 976ms/step\n",
            "Epoch 120/120\n",
            "10/10 - 10s - loss: 0.1509 - accuracy: 0.9203 - val_loss: 2.7392 - val_accuracy: 0.6975 - 10s/epoch - 984ms/step\n"
          ]
        }
      ]
    },
    {
      "cell_type": "code",
      "source": [
        "# Grafik akurasi dan loss model\n",
        "\n",
        "acc = train.history['accuracy']\n",
        "val_acc = train.history['val_accuracy']\n",
        "loss = train.history['loss']\n",
        "val_loss = train.history['val_loss']\n",
        "\n",
        "plt.figure(figsize=(16,8))\n",
        "plt.subplot(1, 2, 1)\n",
        "plt.plot(acc, label='Training Accuracy')\n",
        "plt.plot(val_acc, label='Validation Accuracy')\n",
        "plt.legend(loc='lower right')\n",
        "plt.title('Training and Validation Accuracy')\n",
        "plt.xlabel(\"epochs\")\n",
        "plt.ylabel(\"accuracy\")\n",
        "\n",
        "plt.subplot(1, 2, 2)\n",
        "plt.plot(loss, label='Training Loss')\n",
        "plt.plot(val_loss, label='Validation Loss')\n",
        "plt.legend(loc='upper right')\n",
        "plt.title('Training and Validation Loss')\n",
        "plt.xlabel(\"epochs\")\n",
        "plt.ylabel(\"loss\")\n",
        "plt.show()"
      ],
      "metadata": {
        "colab": {
          "base_uri": "https://localhost:8080/",
          "height": 513
        },
        "id": "uNv-YvYGlMrK",
        "outputId": "42be3fe6-5e72-4e06-f628-6204a9bd065b"
      },
      "execution_count": null,
      "outputs": [
        {
          "output_type": "display_data",
          "data": {
            "text/plain": [
              "<Figure size 1152x576 with 2 Axes>"
            ],
            "image/png": "[encoded data removed]"
          },
          "metadata": {
            "needs_background": "light"
          }
        }
      ]
    },
    {
      "cell_type": "code",
      "source": [
        "# Save model dalam bentuk .h5\n",
        "\n",
        "model.save(\"chatbot_model_lstm_withval_databaru120.h5\")"
      ],
      "metadata": {
        "id": "eEkfKPbPstgn"
      },
      "execution_count": null,
      "outputs": []
    }
  ]
}